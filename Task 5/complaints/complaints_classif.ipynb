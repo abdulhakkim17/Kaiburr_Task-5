{
 "cells": [
  {
   "cell_type": "code",
   "execution_count": 4,
   "metadata": {},
   "outputs": [],
   "source": [
    "import pandas as pd\n",
    "import numpy as np\n",
    "import re\n",
    "import string\n",
    "import seaborn as sns\n",
    "import matplotlib.pyplot as plt\n",
    "from sklearn.model_selection import train_test_split\n",
    "from sklearn.feature_extraction.text import TfidfVectorizer\n",
    "from sklearn.linear_model import LogisticRegression\n",
    "from sklearn.naive_bayes import MultinomialNB\n",
    "from sklearn.ensemble import RandomForestClassifier\n",
    "from sklearn.svm import SVC\n",
    "from sklearn.metrics import accuracy_score, classification_report"
   ]
  },
  {
   "cell_type": "code",
   "execution_count": 12,
   "metadata": {},
   "outputs": [
    {
     "name": "stderr",
     "output_type": "stream",
     "text": [
      "C:\\Users\\jagadesvar\\AppData\\Local\\Temp\\ipykernel_13624\\2805899644.py:1: DtypeWarning: Columns (16) have mixed types. Specify dtype option on import or set low_memory=False.\n",
      "  data = pd.read_csv(\"C:\\\\Users\\\\jagadesvar\\\\Downloads\\\\data\\\\complaints.csv\")\n"
     ]
    }
   ],
   "source": [
    "data = pd.read_csv(\"C:\\\\Users\\\\jagadesvar\\\\Downloads\\\\data\\\\complaints.csv\")"
   ]
  },
  {
   "cell_type": "code",
   "execution_count": 13,
   "metadata": {},
   "outputs": [
    {
     "data": {
      "text/html": [
       "<div>\n",
       "<style scoped>\n",
       "    .dataframe tbody tr th:only-of-type {\n",
       "        vertical-align: middle;\n",
       "    }\n",
       "\n",
       "    .dataframe tbody tr th {\n",
       "        vertical-align: top;\n",
       "    }\n",
       "\n",
       "    .dataframe thead th {\n",
       "        text-align: right;\n",
       "    }\n",
       "</style>\n",
       "<table border=\"1\" class=\"dataframe\">\n",
       "  <thead>\n",
       "    <tr style=\"text-align: right;\">\n",
       "      <th></th>\n",
       "      <th>Date received</th>\n",
       "      <th>Product</th>\n",
       "      <th>Sub-product</th>\n",
       "      <th>Issue</th>\n",
       "      <th>Sub-issue</th>\n",
       "      <th>Consumer complaint narrative</th>\n",
       "      <th>Company public response</th>\n",
       "      <th>Company</th>\n",
       "      <th>State</th>\n",
       "      <th>ZIP code</th>\n",
       "      <th>Tags</th>\n",
       "      <th>Consumer consent provided?</th>\n",
       "      <th>Submitted via</th>\n",
       "      <th>Date sent to company</th>\n",
       "      <th>Company response to consumer</th>\n",
       "      <th>Timely response?</th>\n",
       "      <th>Consumer disputed?</th>\n",
       "      <th>Complaint ID</th>\n",
       "    </tr>\n",
       "  </thead>\n",
       "  <tbody>\n",
       "    <tr>\n",
       "      <th>0</th>\n",
       "      <td>2024-12-30</td>\n",
       "      <td>Credit reporting or other personal consumer re...</td>\n",
       "      <td>Credit reporting</td>\n",
       "      <td>Incorrect information on your report</td>\n",
       "      <td>Account information incorrect</td>\n",
       "      <td>NaN</td>\n",
       "      <td>Company has responded to the consumer and the ...</td>\n",
       "      <td>TRANSUNION INTERMEDIATE HOLDINGS, INC.</td>\n",
       "      <td>FL</td>\n",
       "      <td>33073</td>\n",
       "      <td>NaN</td>\n",
       "      <td>Consent not provided</td>\n",
       "      <td>Web</td>\n",
       "      <td>2024-12-30</td>\n",
       "      <td>Closed with non-monetary relief</td>\n",
       "      <td>Yes</td>\n",
       "      <td>NaN</td>\n",
       "      <td>11326072</td>\n",
       "    </tr>\n",
       "    <tr>\n",
       "      <th>1</th>\n",
       "      <td>2024-12-30</td>\n",
       "      <td>Credit reporting or other personal consumer re...</td>\n",
       "      <td>Credit reporting</td>\n",
       "      <td>Credit monitoring or identity theft protection...</td>\n",
       "      <td>Problem canceling credit monitoring or identif...</td>\n",
       "      <td>NaN</td>\n",
       "      <td>Company has responded to the consumer and the ...</td>\n",
       "      <td>TRANSUNION INTERMEDIATE HOLDINGS, INC.</td>\n",
       "      <td>TX</td>\n",
       "      <td>77057</td>\n",
       "      <td>NaN</td>\n",
       "      <td>Consent not provided</td>\n",
       "      <td>Web</td>\n",
       "      <td>2024-12-30</td>\n",
       "      <td>Closed with non-monetary relief</td>\n",
       "      <td>Yes</td>\n",
       "      <td>NaN</td>\n",
       "      <td>11326185</td>\n",
       "    </tr>\n",
       "    <tr>\n",
       "      <th>2</th>\n",
       "      <td>2024-12-30</td>\n",
       "      <td>Credit reporting or other personal consumer re...</td>\n",
       "      <td>Credit reporting</td>\n",
       "      <td>Incorrect information on your report</td>\n",
       "      <td>Personal information incorrect</td>\n",
       "      <td>NaN</td>\n",
       "      <td>Company has responded to the consumer and the ...</td>\n",
       "      <td>TRANSUNION INTERMEDIATE HOLDINGS, INC.</td>\n",
       "      <td>TX</td>\n",
       "      <td>77057</td>\n",
       "      <td>NaN</td>\n",
       "      <td>Consent not provided</td>\n",
       "      <td>Web</td>\n",
       "      <td>2024-12-30</td>\n",
       "      <td>Closed with non-monetary relief</td>\n",
       "      <td>Yes</td>\n",
       "      <td>NaN</td>\n",
       "      <td>11326105</td>\n",
       "    </tr>\n",
       "    <tr>\n",
       "      <th>3</th>\n",
       "      <td>2024-12-30</td>\n",
       "      <td>Credit reporting or other personal consumer re...</td>\n",
       "      <td>Credit reporting</td>\n",
       "      <td>Problem with a company's investigation into an...</td>\n",
       "      <td>Was not notified of investigation status or re...</td>\n",
       "      <td>NaN</td>\n",
       "      <td>Company has responded to the consumer and the ...</td>\n",
       "      <td>TRANSUNION INTERMEDIATE HOLDINGS, INC.</td>\n",
       "      <td>NY</td>\n",
       "      <td>11413</td>\n",
       "      <td>NaN</td>\n",
       "      <td>Consent not provided</td>\n",
       "      <td>Web</td>\n",
       "      <td>2024-12-30</td>\n",
       "      <td>Closed with non-monetary relief</td>\n",
       "      <td>Yes</td>\n",
       "      <td>NaN</td>\n",
       "      <td>11325376</td>\n",
       "    </tr>\n",
       "    <tr>\n",
       "      <th>4</th>\n",
       "      <td>2024-12-30</td>\n",
       "      <td>Credit reporting or other personal consumer re...</td>\n",
       "      <td>Credit reporting</td>\n",
       "      <td>Improper use of your report</td>\n",
       "      <td>Reporting company used your report improperly</td>\n",
       "      <td>NaN</td>\n",
       "      <td>Company has responded to the consumer and the ...</td>\n",
       "      <td>TRANSUNION INTERMEDIATE HOLDINGS, INC.</td>\n",
       "      <td>WA</td>\n",
       "      <td>98030</td>\n",
       "      <td>NaN</td>\n",
       "      <td>Consent not provided</td>\n",
       "      <td>Web</td>\n",
       "      <td>2024-12-30</td>\n",
       "      <td>Closed with non-monetary relief</td>\n",
       "      <td>Yes</td>\n",
       "      <td>NaN</td>\n",
       "      <td>11325044</td>\n",
       "    </tr>\n",
       "  </tbody>\n",
       "</table>\n",
       "</div>"
      ],
      "text/plain": [
       "  Date received                                            Product  \\\n",
       "0    2024-12-30  Credit reporting or other personal consumer re...   \n",
       "1    2024-12-30  Credit reporting or other personal consumer re...   \n",
       "2    2024-12-30  Credit reporting or other personal consumer re...   \n",
       "3    2024-12-30  Credit reporting or other personal consumer re...   \n",
       "4    2024-12-30  Credit reporting or other personal consumer re...   \n",
       "\n",
       "        Sub-product                                              Issue  \\\n",
       "0  Credit reporting               Incorrect information on your report   \n",
       "1  Credit reporting  Credit monitoring or identity theft protection...   \n",
       "2  Credit reporting               Incorrect information on your report   \n",
       "3  Credit reporting  Problem with a company's investigation into an...   \n",
       "4  Credit reporting                        Improper use of your report   \n",
       "\n",
       "                                           Sub-issue  \\\n",
       "0                      Account information incorrect   \n",
       "1  Problem canceling credit monitoring or identif...   \n",
       "2                     Personal information incorrect   \n",
       "3  Was not notified of investigation status or re...   \n",
       "4      Reporting company used your report improperly   \n",
       "\n",
       "  Consumer complaint narrative  \\\n",
       "0                          NaN   \n",
       "1                          NaN   \n",
       "2                          NaN   \n",
       "3                          NaN   \n",
       "4                          NaN   \n",
       "\n",
       "                             Company public response  \\\n",
       "0  Company has responded to the consumer and the ...   \n",
       "1  Company has responded to the consumer and the ...   \n",
       "2  Company has responded to the consumer and the ...   \n",
       "3  Company has responded to the consumer and the ...   \n",
       "4  Company has responded to the consumer and the ...   \n",
       "\n",
       "                                  Company State ZIP code Tags  \\\n",
       "0  TRANSUNION INTERMEDIATE HOLDINGS, INC.    FL    33073  NaN   \n",
       "1  TRANSUNION INTERMEDIATE HOLDINGS, INC.    TX    77057  NaN   \n",
       "2  TRANSUNION INTERMEDIATE HOLDINGS, INC.    TX    77057  NaN   \n",
       "3  TRANSUNION INTERMEDIATE HOLDINGS, INC.    NY    11413  NaN   \n",
       "4  TRANSUNION INTERMEDIATE HOLDINGS, INC.    WA    98030  NaN   \n",
       "\n",
       "  Consumer consent provided? Submitted via Date sent to company  \\\n",
       "0       Consent not provided           Web           2024-12-30   \n",
       "1       Consent not provided           Web           2024-12-30   \n",
       "2       Consent not provided           Web           2024-12-30   \n",
       "3       Consent not provided           Web           2024-12-30   \n",
       "4       Consent not provided           Web           2024-12-30   \n",
       "\n",
       "      Company response to consumer Timely response? Consumer disputed?  \\\n",
       "0  Closed with non-monetary relief              Yes                NaN   \n",
       "1  Closed with non-monetary relief              Yes                NaN   \n",
       "2  Closed with non-monetary relief              Yes                NaN   \n",
       "3  Closed with non-monetary relief              Yes                NaN   \n",
       "4  Closed with non-monetary relief              Yes                NaN   \n",
       "\n",
       "   Complaint ID  \n",
       "0      11326072  \n",
       "1      11326185  \n",
       "2      11326105  \n",
       "3      11325376  \n",
       "4      11325044  "
      ]
     },
     "execution_count": 13,
     "metadata": {},
     "output_type": "execute_result"
    }
   ],
   "source": [
    "data.head()"
   ]
  },
  {
   "cell_type": "code",
   "execution_count": 14,
   "metadata": {},
   "outputs": [
    {
     "data": {
      "text/html": [
       "<div>\n",
       "<style scoped>\n",
       "    .dataframe tbody tr th:only-of-type {\n",
       "        vertical-align: middle;\n",
       "    }\n",
       "\n",
       "    .dataframe tbody tr th {\n",
       "        vertical-align: top;\n",
       "    }\n",
       "\n",
       "    .dataframe thead th {\n",
       "        text-align: right;\n",
       "    }\n",
       "</style>\n",
       "<table border=\"1\" class=\"dataframe\">\n",
       "  <thead>\n",
       "    <tr style=\"text-align: right;\">\n",
       "      <th></th>\n",
       "      <th>Date received</th>\n",
       "      <th>Product</th>\n",
       "      <th>Sub-product</th>\n",
       "      <th>Issue</th>\n",
       "      <th>Sub-issue</th>\n",
       "      <th>Consumer complaint narrative</th>\n",
       "      <th>Company public response</th>\n",
       "      <th>Company</th>\n",
       "      <th>State</th>\n",
       "      <th>ZIP code</th>\n",
       "      <th>Tags</th>\n",
       "      <th>Consumer consent provided?</th>\n",
       "      <th>Submitted via</th>\n",
       "      <th>Date sent to company</th>\n",
       "      <th>Company response to consumer</th>\n",
       "      <th>Timely response?</th>\n",
       "      <th>Consumer disputed?</th>\n",
       "      <th>Complaint ID</th>\n",
       "    </tr>\n",
       "  </thead>\n",
       "  <tbody>\n",
       "    <tr>\n",
       "      <th>8258537</th>\n",
       "      <td>2016-09-08</td>\n",
       "      <td>Credit reporting</td>\n",
       "      <td>NaN</td>\n",
       "      <td>Unable to get credit report/credit score</td>\n",
       "      <td>Problem getting my free annual report</td>\n",
       "      <td>NaN</td>\n",
       "      <td>NaN</td>\n",
       "      <td>EQUIFAX, INC.</td>\n",
       "      <td>FL</td>\n",
       "      <td>32853</td>\n",
       "      <td>NaN</td>\n",
       "      <td>Consent not provided</td>\n",
       "      <td>Web</td>\n",
       "      <td>2016-09-08</td>\n",
       "      <td>Closed with explanation</td>\n",
       "      <td>Yes</td>\n",
       "      <td>Yes</td>\n",
       "      <td>2102374</td>\n",
       "    </tr>\n",
       "    <tr>\n",
       "      <th>8258538</th>\n",
       "      <td>2022-06-06</td>\n",
       "      <td>Credit reporting, credit repair services, or o...</td>\n",
       "      <td>Credit reporting</td>\n",
       "      <td>Problem with a credit reporting company's inve...</td>\n",
       "      <td>Their investigation did not fix an error on yo...</td>\n",
       "      <td>NaN</td>\n",
       "      <td>NaN</td>\n",
       "      <td>EQUIFAX, INC.</td>\n",
       "      <td>CA</td>\n",
       "      <td>93638</td>\n",
       "      <td>NaN</td>\n",
       "      <td>Consent not provided</td>\n",
       "      <td>Web</td>\n",
       "      <td>2022-06-06</td>\n",
       "      <td>Closed with explanation</td>\n",
       "      <td>Yes</td>\n",
       "      <td>NaN</td>\n",
       "      <td>5637858</td>\n",
       "    </tr>\n",
       "    <tr>\n",
       "      <th>8258539</th>\n",
       "      <td>2016-07-14</td>\n",
       "      <td>Credit reporting</td>\n",
       "      <td>NaN</td>\n",
       "      <td>Unable to get credit report/credit score</td>\n",
       "      <td>Problem getting report or credit score</td>\n",
       "      <td>NaN</td>\n",
       "      <td>NaN</td>\n",
       "      <td>EQUIFAX, INC.</td>\n",
       "      <td>NJ</td>\n",
       "      <td>08620</td>\n",
       "      <td>Older American, Servicemember</td>\n",
       "      <td>NaN</td>\n",
       "      <td>Phone</td>\n",
       "      <td>2016-07-14</td>\n",
       "      <td>Closed with explanation</td>\n",
       "      <td>Yes</td>\n",
       "      <td>No</td>\n",
       "      <td>2012835</td>\n",
       "    </tr>\n",
       "    <tr>\n",
       "      <th>8258540</th>\n",
       "      <td>2014-03-03</td>\n",
       "      <td>Credit reporting</td>\n",
       "      <td>NaN</td>\n",
       "      <td>Improper use of my credit report</td>\n",
       "      <td>Report improperly shared by CRC</td>\n",
       "      <td>NaN</td>\n",
       "      <td>NaN</td>\n",
       "      <td>EQUIFAX, INC.</td>\n",
       "      <td>NJ</td>\n",
       "      <td>08759</td>\n",
       "      <td>NaN</td>\n",
       "      <td>NaN</td>\n",
       "      <td>Web</td>\n",
       "      <td>2014-03-04</td>\n",
       "      <td>Closed with explanation</td>\n",
       "      <td>Yes</td>\n",
       "      <td>No</td>\n",
       "      <td>740118</td>\n",
       "    </tr>\n",
       "    <tr>\n",
       "      <th>8258541</th>\n",
       "      <td>2014-11-10</td>\n",
       "      <td>Credit reporting</td>\n",
       "      <td>NaN</td>\n",
       "      <td>Incorrect information on credit report</td>\n",
       "      <td>Account status</td>\n",
       "      <td>NaN</td>\n",
       "      <td>NaN</td>\n",
       "      <td>EQUIFAX, INC.</td>\n",
       "      <td>CA</td>\n",
       "      <td>95616</td>\n",
       "      <td>NaN</td>\n",
       "      <td>NaN</td>\n",
       "      <td>Postal mail</td>\n",
       "      <td>2014-11-25</td>\n",
       "      <td>Closed with explanation</td>\n",
       "      <td>Yes</td>\n",
       "      <td>No</td>\n",
       "      <td>1110751</td>\n",
       "    </tr>\n",
       "  </tbody>\n",
       "</table>\n",
       "</div>"
      ],
      "text/plain": [
       "        Date received                                            Product  \\\n",
       "8258537    2016-09-08                                   Credit reporting   \n",
       "8258538    2022-06-06  Credit reporting, credit repair services, or o...   \n",
       "8258539    2016-07-14                                   Credit reporting   \n",
       "8258540    2014-03-03                                   Credit reporting   \n",
       "8258541    2014-11-10                                   Credit reporting   \n",
       "\n",
       "              Sub-product                                              Issue  \\\n",
       "8258537               NaN           Unable to get credit report/credit score   \n",
       "8258538  Credit reporting  Problem with a credit reporting company's inve...   \n",
       "8258539               NaN           Unable to get credit report/credit score   \n",
       "8258540               NaN                   Improper use of my credit report   \n",
       "8258541               NaN             Incorrect information on credit report   \n",
       "\n",
       "                                                 Sub-issue  \\\n",
       "8258537              Problem getting my free annual report   \n",
       "8258538  Their investigation did not fix an error on yo...   \n",
       "8258539             Problem getting report or credit score   \n",
       "8258540                    Report improperly shared by CRC   \n",
       "8258541                                     Account status   \n",
       "\n",
       "        Consumer complaint narrative Company public response        Company  \\\n",
       "8258537                          NaN                     NaN  EQUIFAX, INC.   \n",
       "8258538                          NaN                     NaN  EQUIFAX, INC.   \n",
       "8258539                          NaN                     NaN  EQUIFAX, INC.   \n",
       "8258540                          NaN                     NaN  EQUIFAX, INC.   \n",
       "8258541                          NaN                     NaN  EQUIFAX, INC.   \n",
       "\n",
       "        State ZIP code                           Tags  \\\n",
       "8258537    FL    32853                            NaN   \n",
       "8258538    CA    93638                            NaN   \n",
       "8258539    NJ    08620  Older American, Servicemember   \n",
       "8258540    NJ    08759                            NaN   \n",
       "8258541    CA    95616                            NaN   \n",
       "\n",
       "        Consumer consent provided? Submitted via Date sent to company  \\\n",
       "8258537       Consent not provided           Web           2016-09-08   \n",
       "8258538       Consent not provided           Web           2022-06-06   \n",
       "8258539                        NaN         Phone           2016-07-14   \n",
       "8258540                        NaN           Web           2014-03-04   \n",
       "8258541                        NaN   Postal mail           2014-11-25   \n",
       "\n",
       "        Company response to consumer Timely response? Consumer disputed?  \\\n",
       "8258537      Closed with explanation              Yes                Yes   \n",
       "8258538      Closed with explanation              Yes                NaN   \n",
       "8258539      Closed with explanation              Yes                 No   \n",
       "8258540      Closed with explanation              Yes                 No   \n",
       "8258541      Closed with explanation              Yes                 No   \n",
       "\n",
       "         Complaint ID  \n",
       "8258537       2102374  \n",
       "8258538       5637858  \n",
       "8258539       2012835  \n",
       "8258540        740118  \n",
       "8258541       1110751  "
      ]
     },
     "execution_count": 14,
     "metadata": {},
     "output_type": "execute_result"
    }
   ],
   "source": [
    "data.tail()"
   ]
  },
  {
   "cell_type": "code",
   "execution_count": 15,
   "metadata": {},
   "outputs": [
    {
     "name": "stdout",
     "output_type": "stream",
     "text": [
      "<class 'pandas.core.frame.DataFrame'>\n",
      "RangeIndex: 8258542 entries, 0 to 8258541\n",
      "Data columns (total 18 columns):\n",
      " #   Column                        Dtype \n",
      "---  ------                        ----- \n",
      " 0   Date received                 object\n",
      " 1   Product                       object\n",
      " 2   Sub-product                   object\n",
      " 3   Issue                         object\n",
      " 4   Sub-issue                     object\n",
      " 5   Consumer complaint narrative  object\n",
      " 6   Company public response       object\n",
      " 7   Company                       object\n",
      " 8   State                         object\n",
      " 9   ZIP code                      object\n",
      " 10  Tags                          object\n",
      " 11  Consumer consent provided?    object\n",
      " 12  Submitted via                 object\n",
      " 13  Date sent to company          object\n",
      " 14  Company response to consumer  object\n",
      " 15  Timely response?              object\n",
      " 16  Consumer disputed?            object\n",
      " 17  Complaint ID                  int64 \n",
      "dtypes: int64(1), object(17)\n",
      "memory usage: 1.1+ GB\n"
     ]
    }
   ],
   "source": [
    "data.info()"
   ]
  },
  {
   "cell_type": "code",
   "execution_count": 16,
   "metadata": {},
   "outputs": [
    {
     "data": {
      "text/html": [
       "<div>\n",
       "<style scoped>\n",
       "    .dataframe tbody tr th:only-of-type {\n",
       "        vertical-align: middle;\n",
       "    }\n",
       "\n",
       "    .dataframe tbody tr th {\n",
       "        vertical-align: top;\n",
       "    }\n",
       "\n",
       "    .dataframe thead th {\n",
       "        text-align: right;\n",
       "    }\n",
       "</style>\n",
       "<table border=\"1\" class=\"dataframe\">\n",
       "  <thead>\n",
       "    <tr style=\"text-align: right;\">\n",
       "      <th></th>\n",
       "      <th>Date received</th>\n",
       "      <th>Product</th>\n",
       "      <th>Sub-product</th>\n",
       "      <th>Issue</th>\n",
       "      <th>Sub-issue</th>\n",
       "      <th>Consumer complaint narrative</th>\n",
       "      <th>Company public response</th>\n",
       "      <th>Company</th>\n",
       "      <th>State</th>\n",
       "      <th>ZIP code</th>\n",
       "      <th>Tags</th>\n",
       "      <th>Consumer consent provided?</th>\n",
       "      <th>Submitted via</th>\n",
       "      <th>Date sent to company</th>\n",
       "      <th>Company response to consumer</th>\n",
       "      <th>Timely response?</th>\n",
       "      <th>Consumer disputed?</th>\n",
       "      <th>Complaint ID</th>\n",
       "    </tr>\n",
       "  </thead>\n",
       "  <tbody>\n",
       "    <tr>\n",
       "      <th>count</th>\n",
       "      <td>8258542</td>\n",
       "      <td>8258542</td>\n",
       "      <td>8023247</td>\n",
       "      <td>8258536</td>\n",
       "      <td>7435927</td>\n",
       "      <td>2661158</td>\n",
       "      <td>4139825</td>\n",
       "      <td>8258542</td>\n",
       "      <td>8206326</td>\n",
       "      <td>8228314</td>\n",
       "      <td>593866</td>\n",
       "      <td>6817858</td>\n",
       "      <td>8258542</td>\n",
       "      <td>8258542</td>\n",
       "      <td>8258522</td>\n",
       "      <td>8258542</td>\n",
       "      <td>768306</td>\n",
       "      <td>8.258542e+06</td>\n",
       "    </tr>\n",
       "    <tr>\n",
       "      <th>unique</th>\n",
       "      <td>4861</td>\n",
       "      <td>21</td>\n",
       "      <td>86</td>\n",
       "      <td>178</td>\n",
       "      <td>272</td>\n",
       "      <td>1957637</td>\n",
       "      <td>11</td>\n",
       "      <td>7559</td>\n",
       "      <td>63</td>\n",
       "      <td>34626</td>\n",
       "      <td>3</td>\n",
       "      <td>4</td>\n",
       "      <td>7</td>\n",
       "      <td>4810</td>\n",
       "      <td>8</td>\n",
       "      <td>2</td>\n",
       "      <td>2</td>\n",
       "      <td>NaN</td>\n",
       "    </tr>\n",
       "    <tr>\n",
       "      <th>top</th>\n",
       "      <td>2025-01-17</td>\n",
       "      <td>Credit reporting or other personal consumer re...</td>\n",
       "      <td>Credit reporting</td>\n",
       "      <td>Incorrect information on your report</td>\n",
       "      <td>Information belongs to someone else</td>\n",
       "      <td>In accordance with the Fair Credit Reporting a...</td>\n",
       "      <td>Company has responded to the consumer and the ...</td>\n",
       "      <td>EQUIFAX, INC.</td>\n",
       "      <td>FL</td>\n",
       "      <td>XXXXX</td>\n",
       "      <td>Servicemember</td>\n",
       "      <td>Consent not provided</td>\n",
       "      <td>Web</td>\n",
       "      <td>2025-02-25</td>\n",
       "      <td>Closed with explanation</td>\n",
       "      <td>Yes</td>\n",
       "      <td>No</td>\n",
       "      <td>NaN</td>\n",
       "    </tr>\n",
       "    <tr>\n",
       "      <th>freq</th>\n",
       "      <td>32842</td>\n",
       "      <td>3623498</td>\n",
       "      <td>5749022</td>\n",
       "      <td>2902696</td>\n",
       "      <td>1854604</td>\n",
       "      <td>19398</td>\n",
       "      <td>3850061</td>\n",
       "      <td>1930069</td>\n",
       "      <td>1066749</td>\n",
       "      <td>156854</td>\n",
       "      <td>365619</td>\n",
       "      <td>3829823</td>\n",
       "      <td>7675367</td>\n",
       "      <td>30838</td>\n",
       "      <td>4856706</td>\n",
       "      <td>8192318</td>\n",
       "      <td>619928</td>\n",
       "      <td>NaN</td>\n",
       "    </tr>\n",
       "    <tr>\n",
       "      <th>mean</th>\n",
       "      <td>NaN</td>\n",
       "      <td>NaN</td>\n",
       "      <td>NaN</td>\n",
       "      <td>NaN</td>\n",
       "      <td>NaN</td>\n",
       "      <td>NaN</td>\n",
       "      <td>NaN</td>\n",
       "      <td>NaN</td>\n",
       "      <td>NaN</td>\n",
       "      <td>NaN</td>\n",
       "      <td>NaN</td>\n",
       "      <td>NaN</td>\n",
       "      <td>NaN</td>\n",
       "      <td>NaN</td>\n",
       "      <td>NaN</td>\n",
       "      <td>NaN</td>\n",
       "      <td>NaN</td>\n",
       "      <td>7.233357e+06</td>\n",
       "    </tr>\n",
       "    <tr>\n",
       "      <th>std</th>\n",
       "      <td>NaN</td>\n",
       "      <td>NaN</td>\n",
       "      <td>NaN</td>\n",
       "      <td>NaN</td>\n",
       "      <td>NaN</td>\n",
       "      <td>NaN</td>\n",
       "      <td>NaN</td>\n",
       "      <td>NaN</td>\n",
       "      <td>NaN</td>\n",
       "      <td>NaN</td>\n",
       "      <td>NaN</td>\n",
       "      <td>NaN</td>\n",
       "      <td>NaN</td>\n",
       "      <td>NaN</td>\n",
       "      <td>NaN</td>\n",
       "      <td>NaN</td>\n",
       "      <td>NaN</td>\n",
       "      <td>3.359577e+06</td>\n",
       "    </tr>\n",
       "    <tr>\n",
       "      <th>min</th>\n",
       "      <td>NaN</td>\n",
       "      <td>NaN</td>\n",
       "      <td>NaN</td>\n",
       "      <td>NaN</td>\n",
       "      <td>NaN</td>\n",
       "      <td>NaN</td>\n",
       "      <td>NaN</td>\n",
       "      <td>NaN</td>\n",
       "      <td>NaN</td>\n",
       "      <td>NaN</td>\n",
       "      <td>NaN</td>\n",
       "      <td>NaN</td>\n",
       "      <td>NaN</td>\n",
       "      <td>NaN</td>\n",
       "      <td>NaN</td>\n",
       "      <td>NaN</td>\n",
       "      <td>NaN</td>\n",
       "      <td>1.000000e+00</td>\n",
       "    </tr>\n",
       "    <tr>\n",
       "      <th>25%</th>\n",
       "      <td>NaN</td>\n",
       "      <td>NaN</td>\n",
       "      <td>NaN</td>\n",
       "      <td>NaN</td>\n",
       "      <td>NaN</td>\n",
       "      <td>NaN</td>\n",
       "      <td>NaN</td>\n",
       "      <td>NaN</td>\n",
       "      <td>NaN</td>\n",
       "      <td>NaN</td>\n",
       "      <td>NaN</td>\n",
       "      <td>NaN</td>\n",
       "      <td>NaN</td>\n",
       "      <td>NaN</td>\n",
       "      <td>NaN</td>\n",
       "      <td>NaN</td>\n",
       "      <td>NaN</td>\n",
       "      <td>4.323290e+06</td>\n",
       "    </tr>\n",
       "    <tr>\n",
       "      <th>50%</th>\n",
       "      <td>NaN</td>\n",
       "      <td>NaN</td>\n",
       "      <td>NaN</td>\n",
       "      <td>NaN</td>\n",
       "      <td>NaN</td>\n",
       "      <td>NaN</td>\n",
       "      <td>NaN</td>\n",
       "      <td>NaN</td>\n",
       "      <td>NaN</td>\n",
       "      <td>NaN</td>\n",
       "      <td>NaN</td>\n",
       "      <td>NaN</td>\n",
       "      <td>NaN</td>\n",
       "      <td>NaN</td>\n",
       "      <td>NaN</td>\n",
       "      <td>NaN</td>\n",
       "      <td>NaN</td>\n",
       "      <td>7.602212e+06</td>\n",
       "    </tr>\n",
       "    <tr>\n",
       "      <th>75%</th>\n",
       "      <td>NaN</td>\n",
       "      <td>NaN</td>\n",
       "      <td>NaN</td>\n",
       "      <td>NaN</td>\n",
       "      <td>NaN</td>\n",
       "      <td>NaN</td>\n",
       "      <td>NaN</td>\n",
       "      <td>NaN</td>\n",
       "      <td>NaN</td>\n",
       "      <td>NaN</td>\n",
       "      <td>NaN</td>\n",
       "      <td>NaN</td>\n",
       "      <td>NaN</td>\n",
       "      <td>NaN</td>\n",
       "      <td>NaN</td>\n",
       "      <td>NaN</td>\n",
       "      <td>NaN</td>\n",
       "      <td>1.010266e+07</td>\n",
       "    </tr>\n",
       "    <tr>\n",
       "      <th>max</th>\n",
       "      <td>NaN</td>\n",
       "      <td>NaN</td>\n",
       "      <td>NaN</td>\n",
       "      <td>NaN</td>\n",
       "      <td>NaN</td>\n",
       "      <td>NaN</td>\n",
       "      <td>NaN</td>\n",
       "      <td>NaN</td>\n",
       "      <td>NaN</td>\n",
       "      <td>NaN</td>\n",
       "      <td>NaN</td>\n",
       "      <td>NaN</td>\n",
       "      <td>NaN</td>\n",
       "      <td>NaN</td>\n",
       "      <td>NaN</td>\n",
       "      <td>NaN</td>\n",
       "      <td>NaN</td>\n",
       "      <td>1.261643e+07</td>\n",
       "    </tr>\n",
       "  </tbody>\n",
       "</table>\n",
       "</div>"
      ],
      "text/plain": [
       "       Date received                                            Product  \\\n",
       "count        8258542                                            8258542   \n",
       "unique          4861                                                 21   \n",
       "top       2025-01-17  Credit reporting or other personal consumer re...   \n",
       "freq           32842                                            3623498   \n",
       "mean             NaN                                                NaN   \n",
       "std              NaN                                                NaN   \n",
       "min              NaN                                                NaN   \n",
       "25%              NaN                                                NaN   \n",
       "50%              NaN                                                NaN   \n",
       "75%              NaN                                                NaN   \n",
       "max              NaN                                                NaN   \n",
       "\n",
       "             Sub-product                                 Issue  \\\n",
       "count            8023247                               8258536   \n",
       "unique                86                                   178   \n",
       "top     Credit reporting  Incorrect information on your report   \n",
       "freq             5749022                               2902696   \n",
       "mean                 NaN                                   NaN   \n",
       "std                  NaN                                   NaN   \n",
       "min                  NaN                                   NaN   \n",
       "25%                  NaN                                   NaN   \n",
       "50%                  NaN                                   NaN   \n",
       "75%                  NaN                                   NaN   \n",
       "max                  NaN                                   NaN   \n",
       "\n",
       "                                  Sub-issue  \\\n",
       "count                               7435927   \n",
       "unique                                  272   \n",
       "top     Information belongs to someone else   \n",
       "freq                                1854604   \n",
       "mean                                    NaN   \n",
       "std                                     NaN   \n",
       "min                                     NaN   \n",
       "25%                                     NaN   \n",
       "50%                                     NaN   \n",
       "75%                                     NaN   \n",
       "max                                     NaN   \n",
       "\n",
       "                             Consumer complaint narrative  \\\n",
       "count                                             2661158   \n",
       "unique                                            1957637   \n",
       "top     In accordance with the Fair Credit Reporting a...   \n",
       "freq                                                19398   \n",
       "mean                                                  NaN   \n",
       "std                                                   NaN   \n",
       "min                                                   NaN   \n",
       "25%                                                   NaN   \n",
       "50%                                                   NaN   \n",
       "75%                                                   NaN   \n",
       "max                                                   NaN   \n",
       "\n",
       "                                  Company public response        Company  \\\n",
       "count                                             4139825        8258542   \n",
       "unique                                                 11           7559   \n",
       "top     Company has responded to the consumer and the ...  EQUIFAX, INC.   \n",
       "freq                                              3850061        1930069   \n",
       "mean                                                  NaN            NaN   \n",
       "std                                                   NaN            NaN   \n",
       "min                                                   NaN            NaN   \n",
       "25%                                                   NaN            NaN   \n",
       "50%                                                   NaN            NaN   \n",
       "75%                                                   NaN            NaN   \n",
       "max                                                   NaN            NaN   \n",
       "\n",
       "          State ZIP code           Tags Consumer consent provided?  \\\n",
       "count   8206326  8228314         593866                    6817858   \n",
       "unique       63    34626              3                          4   \n",
       "top          FL    XXXXX  Servicemember       Consent not provided   \n",
       "freq    1066749   156854         365619                    3829823   \n",
       "mean        NaN      NaN            NaN                        NaN   \n",
       "std         NaN      NaN            NaN                        NaN   \n",
       "min         NaN      NaN            NaN                        NaN   \n",
       "25%         NaN      NaN            NaN                        NaN   \n",
       "50%         NaN      NaN            NaN                        NaN   \n",
       "75%         NaN      NaN            NaN                        NaN   \n",
       "max         NaN      NaN            NaN                        NaN   \n",
       "\n",
       "       Submitted via Date sent to company Company response to consumer  \\\n",
       "count        8258542              8258542                      8258522   \n",
       "unique             7                 4810                            8   \n",
       "top              Web           2025-02-25      Closed with explanation   \n",
       "freq         7675367                30838                      4856706   \n",
       "mean             NaN                  NaN                          NaN   \n",
       "std              NaN                  NaN                          NaN   \n",
       "min              NaN                  NaN                          NaN   \n",
       "25%              NaN                  NaN                          NaN   \n",
       "50%              NaN                  NaN                          NaN   \n",
       "75%              NaN                  NaN                          NaN   \n",
       "max              NaN                  NaN                          NaN   \n",
       "\n",
       "       Timely response? Consumer disputed?  Complaint ID  \n",
       "count           8258542             768306  8.258542e+06  \n",
       "unique                2                  2           NaN  \n",
       "top                 Yes                 No           NaN  \n",
       "freq            8192318             619928           NaN  \n",
       "mean                NaN                NaN  7.233357e+06  \n",
       "std                 NaN                NaN  3.359577e+06  \n",
       "min                 NaN                NaN  1.000000e+00  \n",
       "25%                 NaN                NaN  4.323290e+06  \n",
       "50%                 NaN                NaN  7.602212e+06  \n",
       "75%                 NaN                NaN  1.010266e+07  \n",
       "max                 NaN                NaN  1.261643e+07  "
      ]
     },
     "execution_count": 16,
     "metadata": {},
     "output_type": "execute_result"
    }
   ],
   "source": [
    "data.describe(include=\"all\")"
   ]
  },
  {
   "cell_type": "code",
   "execution_count": 17,
   "metadata": {},
   "outputs": [
    {
     "data": {
      "text/plain": [
       "(8258542, 18)"
      ]
     },
     "execution_count": 17,
     "metadata": {},
     "output_type": "execute_result"
    }
   ],
   "source": [
    "data.shape"
   ]
  },
  {
   "cell_type": "code",
   "execution_count": 18,
   "metadata": {},
   "outputs": [],
   "source": [
    "data = data[['Issue', 'Product']]"
   ]
  },
  {
   "cell_type": "markdown",
   "metadata": {},
   "source": [
    "category mapping"
   ]
  },
  {
   "cell_type": "code",
   "execution_count": 19,
   "metadata": {},
   "outputs": [],
   "source": [
    "category_mapping = {\n",
    "    \"Credit reporting or other personal consumer reports\": 0,\n",
    "    \"Debt collection\": 1,\n",
    "    \"Payday loan, title loan, personal loan, or advance loan\": 2,\n",
    "    \"Mortgage\": 3\n",
    "}\n",
    "data['Category'] = data['Product'].map(category_mapping)\n",
    "data.dropna(inplace=True)"
   ]
  },
  {
   "cell_type": "markdown",
   "metadata": {},
   "source": [
    "Text Preprocessing"
   ]
  },
  {
   "cell_type": "code",
   "execution_count": 20,
   "metadata": {},
   "outputs": [],
   "source": [
    "def clean_text(text):\n",
    "    text = text.lower()\n",
    "    text = re.sub(f\"[{string.punctuation}]\", \"\", text)\n",
    "    text = re.sub(r'\\d+', '', text)\n",
    "    return text\n",
    "\n",
    "data['Cleaned_Issue'] = data['Issue'].apply(clean_text)\n"
   ]
  },
  {
   "cell_type": "code",
   "execution_count": 21,
   "metadata": {},
   "outputs": [],
   "source": [
    "X_train, X_test, y_train, y_test = train_test_split(data['Cleaned_Issue'], data['Category'], test_size=0.2, random_state=42)"
   ]
  },
  {
   "cell_type": "markdown",
   "metadata": {},
   "source": [
    "Convert text to numeric features"
   ]
  },
  {
   "cell_type": "code",
   "execution_count": 24,
   "metadata": {},
   "outputs": [],
   "source": [
    "vectorizer = TfidfVectorizer()\n",
    "X_train_tfidata = vectorizer.fit_transform(X_train)\n",
    "X_test_tfidata = vectorizer.transform(X_test)"
   ]
  },
  {
   "cell_type": "markdown",
   "metadata": {},
   "source": [
    "LOGISTIC REGRESSION"
   ]
  },
  {
   "cell_type": "code",
   "execution_count": 25,
   "metadata": {},
   "outputs": [
    {
     "name": "stdout",
     "output_type": "stream",
     "text": [
      "0.9983467308745396\n"
     ]
    }
   ],
   "source": [
    "LR = LogisticRegression()\n",
    "LR.fit(X_train_tfidata, y_train)\n",
    "y_pred = LR.predict(X_test_tfidata)\n",
    "accuracy = accuracy_score(y_test, y_pred)\n",
    "print(accuracy)\n",
    "\n"
   ]
  },
  {
   "cell_type": "code",
   "execution_count": 26,
   "metadata": {},
   "outputs": [
    {
     "name": "stdout",
     "output_type": "stream",
     "text": [
      "              precision    recall  f1-score   support\n",
      "\n",
      "         0.0       1.00      1.00      1.00    724649\n",
      "         1.0       1.00      1.00      1.00    146107\n",
      "         2.0       1.00      0.86      0.93      2704\n",
      "         3.0       1.00      0.99      0.99     83432\n",
      "\n",
      "    accuracy                           1.00    956892\n",
      "   macro avg       1.00      0.96      0.98    956892\n",
      "weighted avg       1.00      1.00      1.00    956892\n",
      "\n"
     ]
    }
   ],
   "source": [
    "print(classification_report(y_test, y_pred))"
   ]
  },
  {
   "cell_type": "code",
   "execution_count": 27,
   "metadata": {},
   "outputs": [
    {
     "name": "stdout",
     "output_type": "stream",
     "text": [
      "Logistic Regression Prediction: 3.0\n"
     ]
    }
   ],
   "source": [
    "def predict_category(sample_text):\n",
    "    sample_text_cleaned = clean_text(sample_text)\n",
    "    sample_vectorized = vectorizer.transform([sample_text_cleaned])\n",
    "    prediction = LR.predict(sample_vectorized)[0]\n",
    "    print(f\"Logistic Regression Prediction: {prediction}\")\n",
    "\n",
    "# Example sample input\n",
    "sample_input_LR = \"Trouble during payment process\"\n",
    "predict_category(sample_input_LR)"
   ]
  },
  {
   "cell_type": "code",
   "execution_count": 28,
   "metadata": {},
   "outputs": [
    {
     "name": "stdout",
     "output_type": "stream",
     "text": [
      "LR_predictions saved\n"
     ]
    }
   ],
   "source": [
    "output_data = X_test.to_frame()\n",
    "output_data['Actual'] = y_test.values\n",
    "output_data['Predicted'] = y_pred\n",
    "output_data.to_csv(f\"predictions_LR.csv\", index=False)\n",
    "print(\"LR_predictions saved\")\n"
   ]
  },
  {
   "cell_type": "markdown",
   "metadata": {},
   "source": [
    "NAIVE BAYES"
   ]
  },
  {
   "cell_type": "code",
   "execution_count": 29,
   "metadata": {},
   "outputs": [
    {
     "name": "stdout",
     "output_type": "stream",
     "text": [
      "0.9978304761665894\n"
     ]
    }
   ],
   "source": [
    "NB = MultinomialNB()\n",
    "NB.fit(X_train_tfidata, y_train)\n",
    "y_pred = NB.predict(X_test_tfidata)\n",
    "accuracy = accuracy_score(y_test, y_pred)\n",
    "print(accuracy)\n",
    "\n"
   ]
  },
  {
   "cell_type": "code",
   "execution_count": 30,
   "metadata": {},
   "outputs": [
    {
     "name": "stdout",
     "output_type": "stream",
     "text": [
      "              precision    recall  f1-score   support\n",
      "\n",
      "         0.0       1.00      1.00      1.00    724649\n",
      "         1.0       1.00      1.00      1.00    146107\n",
      "         2.0       1.00      0.76      0.87      2704\n",
      "         3.0       1.00      0.98      0.99     83432\n",
      "\n",
      "    accuracy                           1.00    956892\n",
      "   macro avg       1.00      0.94      0.96    956892\n",
      "weighted avg       1.00      1.00      1.00    956892\n",
      "\n"
     ]
    }
   ],
   "source": [
    "print(classification_report(y_test, y_pred))"
   ]
  },
  {
   "cell_type": "code",
   "execution_count": 31,
   "metadata": {},
   "outputs": [
    {
     "name": "stdout",
     "output_type": "stream",
     "text": [
      "Naive Bayes Prediction: 3.0\n"
     ]
    }
   ],
   "source": [
    "def predict_category(sample_text):\n",
    "    sample_text_cleaned = clean_text(sample_text)\n",
    "    sample_vectorized = vectorizer.transform([sample_text_cleaned])\n",
    "    prediction = NB.predict(sample_vectorized)[0]\n",
    "    print(f\"Naive Bayes Prediction: {prediction}\")\n",
    "\n",
    "# Example sample input\n",
    "sample_input_NB = \"Trouble during payment process\"\n",
    "predict_category(sample_input_NB)"
   ]
  },
  {
   "cell_type": "code",
   "execution_count": 32,
   "metadata": {},
   "outputs": [
    {
     "name": "stdout",
     "output_type": "stream",
     "text": [
      "NB_predictions saved\n"
     ]
    }
   ],
   "source": [
    "output_data = X_test.to_frame()\n",
    "output_data['Actual'] = y_test.values\n",
    "output_data['Predicted'] = y_pred\n",
    "output_data.to_csv(f\"predictions_NB.csv\", index=False)\n",
    "print(\"NB_predictions saved\")"
   ]
  },
  {
   "cell_type": "markdown",
   "metadata": {},
   "source": [
    "RANDOM FOREST"
   ]
  },
  {
   "cell_type": "code",
   "execution_count": 34,
   "metadata": {},
   "outputs": [
    {
     "name": "stdout",
     "output_type": "stream",
     "text": [
      "0.998395848225296\n"
     ]
    }
   ],
   "source": [
    "RF = RandomForestClassifier(n_estimators=100, random_state=42)\n",
    "RF.fit(X_train_tfidata, y_train)\n",
    "y_pred = RF.predict(X_test_tfidata)\n",
    "accuracy = accuracy_score(y_test, y_pred)\n",
    "print(accuracy)\n"
   ]
  },
  {
   "cell_type": "code",
   "execution_count": 35,
   "metadata": {},
   "outputs": [
    {
     "name": "stdout",
     "output_type": "stream",
     "text": [
      "              precision    recall  f1-score   support\n",
      "\n",
      "         0.0       1.00      1.00      1.00    724649\n",
      "         1.0       1.00      1.00      1.00    146107\n",
      "         2.0       1.00      0.88      0.93      2704\n",
      "         3.0       1.00      0.99      0.99     83432\n",
      "\n",
      "    accuracy                           1.00    956892\n",
      "   macro avg       1.00      0.97      0.98    956892\n",
      "weighted avg       1.00      1.00      1.00    956892\n",
      "\n"
     ]
    }
   ],
   "source": [
    "print(classification_report(y_test, y_pred))"
   ]
  },
  {
   "cell_type": "code",
   "execution_count": 36,
   "metadata": {},
   "outputs": [
    {
     "name": "stdout",
     "output_type": "stream",
     "text": [
      "Random Forest Prediction: 3.0\n"
     ]
    }
   ],
   "source": [
    "def predict_category(sample_text):\n",
    "    sample_text_cleaned = clean_text(sample_text)\n",
    "    sample_vectorized = vectorizer.transform([sample_text_cleaned])\n",
    "    prediction = RF.predict(sample_vectorized)[0]\n",
    "    print(f\"Random Forest Prediction: {prediction}\")\n",
    "\n",
    "# Example sample input\n",
    "sample_input_RF = \"Trouble during payment process\"\n",
    "predict_category(sample_input_RF)"
   ]
  },
  {
   "cell_type": "code",
   "execution_count": 37,
   "metadata": {},
   "outputs": [
    {
     "name": "stdout",
     "output_type": "stream",
     "text": [
      "RF_predictions saved\n"
     ]
    }
   ],
   "source": [
    "output_data = X_test.to_frame()\n",
    "output_data['Actual'] = y_test.values\n",
    "output_data['Predicted'] = y_pred\n",
    "output_data.to_csv(f\"predictions_RF.csv\", index=False)\n",
    "print(\"RF_predictions saved\")"
   ]
  },
  {
   "cell_type": "markdown",
   "metadata": {},
   "source": [
    "SUPPORT VECTOR MACHINE"
   ]
  },
  {
   "cell_type": "code",
   "execution_count": 38,
   "metadata": {},
   "outputs": [
    {
     "name": "stdout",
     "output_type": "stream",
     "text": [
      "0.9983937581252639\n"
     ]
    }
   ],
   "source": [
    "SVM = SVC(kernel='linear')\n",
    "SVM.fit(X_train_tfidata, y_train)\n",
    "y_pred = SVM.predict(X_test_tfidata)\n",
    "accuracy = accuracy_score(y_test, y_pred)\n",
    "print(accuracy)"
   ]
  },
  {
   "cell_type": "code",
   "execution_count": 39,
   "metadata": {},
   "outputs": [
    {
     "name": "stdout",
     "output_type": "stream",
     "text": [
      "              precision    recall  f1-score   support\n",
      "\n",
      "         0.0       1.00      1.00      1.00    724649\n",
      "         1.0       1.00      1.00      1.00    146107\n",
      "         2.0       1.00      0.88      0.93      2704\n",
      "         3.0       1.00      0.99      0.99     83432\n",
      "\n",
      "    accuracy                           1.00    956892\n",
      "   macro avg       1.00      0.97      0.98    956892\n",
      "weighted avg       1.00      1.00      1.00    956892\n",
      "\n"
     ]
    }
   ],
   "source": [
    "print(classification_report(y_test, y_pred))"
   ]
  },
  {
   "cell_type": "code",
   "execution_count": 40,
   "metadata": {},
   "outputs": [
    {
     "name": "stdout",
     "output_type": "stream",
     "text": [
      "Support Vector Machines Prediction: 3.0\n"
     ]
    }
   ],
   "source": [
    "def predict_category(sample_text):\n",
    "    sample_text_cleaned = clean_text(sample_text)\n",
    "    sample_vectorized = vectorizer.transform([sample_text_cleaned])\n",
    "    prediction = SVM.predict(sample_vectorized)[0]\n",
    "    print(f\"Support Vector Machines Prediction: {prediction}\")\n",
    "\n",
    "# Example sample input\n",
    "sample_input_SVM = \"Trouble during payment process\"\n",
    "predict_category(sample_input_SVM)\n"
   ]
  },
  {
   "cell_type": "code",
   "execution_count": 41,
   "metadata": {},
   "outputs": [
    {
     "name": "stdout",
     "output_type": "stream",
     "text": [
      "SVM_predictions saved\n"
     ]
    }
   ],
   "source": [
    "output_data = X_test.to_frame()\n",
    "output_data['Actual'] = y_test.values\n",
    "output_data['Predicted'] = y_pred\n",
    "output_data.to_csv(f\"predictions_SVM.csv\", index=False)\n",
    "print(\"SVM_predictions saved\")"
   ]
  }
 ],
 "metadata": {
  "kernelspec": {
   "display_name": "Python 3",
   "language": "python",
   "name": "python3"
  },
  "language_info": {
   "codemirror_mode": {
    "name": "ipython",
    "version": 3
   },
   "file_extension": ".py",
   "mimetype": "text/x-python",
   "name": "python",
   "nbconvert_exporter": "python",
   "pygments_lexer": "ipython3",
   "version": "3.10.0"
  }
 },
 "nbformat": 4,
 "nbformat_minor": 4
}
